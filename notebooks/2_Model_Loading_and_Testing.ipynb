{
 "cells": [
  {
   "cell_type": "code",
   "execution_count": 1,
   "id": "7d651809-359f-41f3-85a0-b0060da1b409",
   "metadata": {},
   "outputs": [],
   "source": [
    "import joblib"
   ]
  },
  {
   "cell_type": "code",
   "execution_count": 2,
   "id": "e0aef558-f277-4811-ad4d-c31f152690f7",
   "metadata": {},
   "outputs": [],
   "source": [
    "loaded_model = joblib.load('decision_tree_model.pkl')"
   ]
  },
  {
   "cell_type": "code",
   "execution_count": null,
   "id": "da6c9579-0881-44db-9128-b5ed5c861ac2",
   "metadata": {},
   "outputs": [],
   "source": []
  }
 ],
 "metadata": {
  "kernelspec": {
   "display_name": "Python (HealthCompass)",
   "language": "python",
   "name": "healthcompass"
  },
  "language_info": {
   "codemirror_mode": {
    "name": "ipython",
    "version": 3
   },
   "file_extension": ".py",
   "mimetype": "text/x-python",
   "name": "python",
   "nbconvert_exporter": "python",
   "pygments_lexer": "ipython3",
   "version": "3.11.13"
  }
 },
 "nbformat": 4,
 "nbformat_minor": 5
}
